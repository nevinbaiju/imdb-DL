{
 "cells": [
  {
   "cell_type": "code",
   "execution_count": 1,
   "metadata": {
    "collapsed": true
   },
   "outputs": [],
   "source": [
    "import pandas as pd\n",
    "import numpy as np"
   ]
  },
  {
   "cell_type": "code",
   "execution_count": 2,
   "metadata": {
    "collapsed": true
   },
   "outputs": [],
   "source": [
    "movies_df = pd.read_csv('cleaned_data_final.csv', delimiter='\\t')"
   ]
  },
  {
   "cell_type": "code",
   "execution_count": 3,
   "metadata": {},
   "outputs": [
    {
     "data": {
      "text/html": [
       "<div>\n",
       "<style>\n",
       "    .dataframe thead tr:only-child th {\n",
       "        text-align: right;\n",
       "    }\n",
       "\n",
       "    .dataframe thead th {\n",
       "        text-align: left;\n",
       "    }\n",
       "\n",
       "    .dataframe tbody tr th {\n",
       "        vertical-align: top;\n",
       "    }\n",
       "</style>\n",
       "<table border=\"1\" class=\"dataframe\">\n",
       "  <thead>\n",
       "    <tr style=\"text-align: right;\">\n",
       "      <th></th>\n",
       "      <th>Unnamed: 0</th>\n",
       "      <th>popularity</th>\n",
       "      <th>budget</th>\n",
       "      <th>revenue</th>\n",
       "      <th>original_title</th>\n",
       "      <th>director</th>\n",
       "      <th>runtime</th>\n",
       "      <th>genres</th>\n",
       "      <th>release_date</th>\n",
       "      <th>vote_count</th>\n",
       "      <th>vote_average</th>\n",
       "      <th>release_year</th>\n",
       "      <th>release_month</th>\n",
       "    </tr>\n",
       "  </thead>\n",
       "  <tbody>\n",
       "    <tr>\n",
       "      <th>0</th>\n",
       "      <td>0</td>\n",
       "      <td>32.985763</td>\n",
       "      <td>150000000</td>\n",
       "      <td>1513528810</td>\n",
       "      <td>Jurassic World</td>\n",
       "      <td>Colin Trevorrow</td>\n",
       "      <td>124</td>\n",
       "      <td>Action|Adventure|Science Fiction|Thriller</td>\n",
       "      <td>6/9/15</td>\n",
       "      <td>5562</td>\n",
       "      <td>6.5</td>\n",
       "      <td>2015</td>\n",
       "      <td>6</td>\n",
       "    </tr>\n",
       "    <tr>\n",
       "      <th>1</th>\n",
       "      <td>1</td>\n",
       "      <td>28.419936</td>\n",
       "      <td>150000000</td>\n",
       "      <td>378436354</td>\n",
       "      <td>Mad Max: Fury Road</td>\n",
       "      <td>George Miller</td>\n",
       "      <td>120</td>\n",
       "      <td>Action|Adventure|Science Fiction|Thriller</td>\n",
       "      <td>5/13/15</td>\n",
       "      <td>6185</td>\n",
       "      <td>7.1</td>\n",
       "      <td>2015</td>\n",
       "      <td>5</td>\n",
       "    </tr>\n",
       "    <tr>\n",
       "      <th>2</th>\n",
       "      <td>2</td>\n",
       "      <td>13.112507</td>\n",
       "      <td>110000000</td>\n",
       "      <td>295238201</td>\n",
       "      <td>Insurgent</td>\n",
       "      <td>Robert Schwentke</td>\n",
       "      <td>119</td>\n",
       "      <td>Adventure|Science Fiction|Thriller</td>\n",
       "      <td>3/18/15</td>\n",
       "      <td>2480</td>\n",
       "      <td>6.3</td>\n",
       "      <td>2015</td>\n",
       "      <td>3</td>\n",
       "    </tr>\n",
       "    <tr>\n",
       "      <th>3</th>\n",
       "      <td>3</td>\n",
       "      <td>11.173104</td>\n",
       "      <td>200000000</td>\n",
       "      <td>2068178225</td>\n",
       "      <td>Star Wars: The Force Awakens</td>\n",
       "      <td>J.J. Abrams</td>\n",
       "      <td>136</td>\n",
       "      <td>Action|Adventure|Science Fiction|Fantasy</td>\n",
       "      <td>12/15/15</td>\n",
       "      <td>5292</td>\n",
       "      <td>7.5</td>\n",
       "      <td>2015</td>\n",
       "      <td>12</td>\n",
       "    </tr>\n",
       "    <tr>\n",
       "      <th>4</th>\n",
       "      <td>4</td>\n",
       "      <td>9.335014</td>\n",
       "      <td>190000000</td>\n",
       "      <td>1506249360</td>\n",
       "      <td>Furious 7</td>\n",
       "      <td>James Wan</td>\n",
       "      <td>137</td>\n",
       "      <td>Action|Crime|Thriller</td>\n",
       "      <td>4/1/15</td>\n",
       "      <td>2947</td>\n",
       "      <td>7.3</td>\n",
       "      <td>2015</td>\n",
       "      <td>4</td>\n",
       "    </tr>\n",
       "  </tbody>\n",
       "</table>\n",
       "</div>"
      ],
      "text/plain": [
       "   Unnamed: 0  popularity     budget     revenue  \\\n",
       "0           0   32.985763  150000000  1513528810   \n",
       "1           1   28.419936  150000000   378436354   \n",
       "2           2   13.112507  110000000   295238201   \n",
       "3           3   11.173104  200000000  2068178225   \n",
       "4           4    9.335014  190000000  1506249360   \n",
       "\n",
       "                 original_title          director  runtime  \\\n",
       "0                Jurassic World   Colin Trevorrow      124   \n",
       "1            Mad Max: Fury Road     George Miller      120   \n",
       "2                     Insurgent  Robert Schwentke      119   \n",
       "3  Star Wars: The Force Awakens       J.J. Abrams      136   \n",
       "4                     Furious 7         James Wan      137   \n",
       "\n",
       "                                      genres release_date  vote_count  \\\n",
       "0  Action|Adventure|Science Fiction|Thriller       6/9/15        5562   \n",
       "1  Action|Adventure|Science Fiction|Thriller      5/13/15        6185   \n",
       "2         Adventure|Science Fiction|Thriller      3/18/15        2480   \n",
       "3   Action|Adventure|Science Fiction|Fantasy     12/15/15        5292   \n",
       "4                      Action|Crime|Thriller       4/1/15        2947   \n",
       "\n",
       "   vote_average  release_year  release_month  \n",
       "0           6.5          2015              6  \n",
       "1           7.1          2015              5  \n",
       "2           6.3          2015              3  \n",
       "3           7.5          2015             12  \n",
       "4           7.3          2015              4  "
      ]
     },
     "execution_count": 3,
     "metadata": {},
     "output_type": "execute_result"
    }
   ],
   "source": [
    "movies_df.head()"
   ]
  },
  {
   "cell_type": "code",
   "execution_count": 4,
   "metadata": {
    "collapsed": true
   },
   "outputs": [],
   "source": [
    "movies_df = movies_df.drop(['original_title', 'director', 'runtime', 'genres',\n",
    "               'release_date', 'vote_count', 'Unnamed: 0', 'release_year'], axis=1)"
   ]
  },
  {
   "cell_type": "code",
   "execution_count": 5,
   "metadata": {
    "collapsed": true
   },
   "outputs": [],
   "source": [
    "def round_vote(x):\n",
    "    return int(round(x,0))"
   ]
  },
  {
   "cell_type": "code",
   "execution_count": 7,
   "metadata": {
    "collapsed": true
   },
   "outputs": [],
   "source": [
    "movies_df['vote_average'] = movies_df['vote_average'].apply(round)"
   ]
  },
  {
   "cell_type": "code",
   "execution_count": 8,
   "metadata": {},
   "outputs": [
    {
     "data": {
      "text/html": [
       "<div>\n",
       "<style>\n",
       "    .dataframe thead tr:only-child th {\n",
       "        text-align: right;\n",
       "    }\n",
       "\n",
       "    .dataframe thead th {\n",
       "        text-align: left;\n",
       "    }\n",
       "\n",
       "    .dataframe tbody tr th {\n",
       "        vertical-align: top;\n",
       "    }\n",
       "</style>\n",
       "<table border=\"1\" class=\"dataframe\">\n",
       "  <thead>\n",
       "    <tr style=\"text-align: right;\">\n",
       "      <th></th>\n",
       "      <th>popularity</th>\n",
       "      <th>budget</th>\n",
       "      <th>revenue</th>\n",
       "      <th>vote_average</th>\n",
       "      <th>release_month</th>\n",
       "    </tr>\n",
       "  </thead>\n",
       "  <tbody>\n",
       "    <tr>\n",
       "      <th>0</th>\n",
       "      <td>32.985763</td>\n",
       "      <td>150000000</td>\n",
       "      <td>1513528810</td>\n",
       "      <td>6</td>\n",
       "      <td>6</td>\n",
       "    </tr>\n",
       "    <tr>\n",
       "      <th>1</th>\n",
       "      <td>28.419936</td>\n",
       "      <td>150000000</td>\n",
       "      <td>378436354</td>\n",
       "      <td>7</td>\n",
       "      <td>5</td>\n",
       "    </tr>\n",
       "    <tr>\n",
       "      <th>2</th>\n",
       "      <td>13.112507</td>\n",
       "      <td>110000000</td>\n",
       "      <td>295238201</td>\n",
       "      <td>6</td>\n",
       "      <td>3</td>\n",
       "    </tr>\n",
       "    <tr>\n",
       "      <th>3</th>\n",
       "      <td>11.173104</td>\n",
       "      <td>200000000</td>\n",
       "      <td>2068178225</td>\n",
       "      <td>8</td>\n",
       "      <td>12</td>\n",
       "    </tr>\n",
       "    <tr>\n",
       "      <th>4</th>\n",
       "      <td>9.335014</td>\n",
       "      <td>190000000</td>\n",
       "      <td>1506249360</td>\n",
       "      <td>7</td>\n",
       "      <td>4</td>\n",
       "    </tr>\n",
       "  </tbody>\n",
       "</table>\n",
       "</div>"
      ],
      "text/plain": [
       "   popularity     budget     revenue  vote_average  release_month\n",
       "0   32.985763  150000000  1513528810             6              6\n",
       "1   28.419936  150000000   378436354             7              5\n",
       "2   13.112507  110000000   295238201             6              3\n",
       "3   11.173104  200000000  2068178225             8             12\n",
       "4    9.335014  190000000  1506249360             7              4"
      ]
     },
     "execution_count": 8,
     "metadata": {},
     "output_type": "execute_result"
    }
   ],
   "source": [
    "movies_df.head()"
   ]
  },
  {
   "cell_type": "code",
   "execution_count": 16,
   "metadata": {
    "collapsed": true
   },
   "outputs": [],
   "source": [
    "#normalizing\n",
    "movies_df['popularity'] = ((movies_df['popularity']-movies_df['popularity'].min())/(movies_df['popularity'].max()-movies_df['popularity'].min()))*10\n",
    "movies_df['budget'] = ((movies_df['budget']-movies_df['budget'].min())/(movies_df['budget'].max()-movies_df['budget'].min()))*10\n",
    "movies_df['revenue'] = ((movies_df['revenue']-movies_df['revenue'].min())/(movies_df['revenue'].max()-movies_df['revenue'].min()))*10\n",
    "movies_df.to_csv('data_final.csv', sep=',', encoding='utf-8')"
   ]
  },
  {
   "cell_type": "code",
   "execution_count": 201,
   "metadata": {
    "collapsed": true
   },
   "outputs": [],
   "source": [
    "class bp_network():\n",
    "    \n",
    "    def __init__(self):\n",
    "        \n",
    "        self.alpha = 0.001\n",
    "        self.epochs = 20\n",
    "        \n",
    "        input_layer_weight = np.ones([4, 5], dtype='float64')\n",
    "        input_layer_bias = np.ones([1, 5], dtype='float64')\n",
    "        input_layer_net_input = np.ones([1, 5], dtype='float64')\n",
    "        \n",
    "        self.input_layer = {'weights' : input_layer_weight,\n",
    "                            'bias' : input_layer_bias, \n",
    "                            'net_input' : input_layer_net_input}\n",
    "        \n",
    "        weight_hl_1 = np.ones([5, 8], dtype='float64')\n",
    "        bias_hl_1 = np.ones([1, 8], dtype='float64')\n",
    "        hl_1_net_input = np.ones([1, 8], dtype='float64')\n",
    "        \n",
    "        self.hidden_layer_1 = {'weights' : weight_hl_1,\n",
    "                               'bias' : bias_hl_1,\n",
    "                               'net_input' : hl_1_net_input}\n",
    "        \n",
    "        weight_hl_2 = np.ones([8, 5], dtype='float64')\n",
    "        bias_hl_2 = np.ones([1, 5], dtype='float64')\n",
    "        hl_2_net_input = np.ones([1, 5], dtype='float64')\n",
    "        \n",
    "        self.hidden_layer_2 = {'weights' : weight_hl_2,\n",
    "                               'bias' : bias_hl_2,\n",
    "                               'net_input' : hl_2_net_input}\n",
    "        \n",
    "        output_weights = np.ones([5, 1], dtype='float64')\n",
    "        output_bias = np.ones([1, 1], dtype='float64')\n",
    "        output_net_input = np.ones([1, 1], dtype='float64')\n",
    "\n",
    "        self.output_layer = {'weights' : output_weights,\n",
    "                             'bias' : output_bias,\n",
    "                             'net_input' : output_net_input}\n",
    "        \n",
    "    def calc_net_output(self, _input, weights, bias):\n",
    "        try:\n",
    "            op = np.matmul(_input.T, weights)\n",
    "            return op+bias\n",
    "        except:\n",
    "            op =np.matmul(_input, weights)\n",
    "            return op+bias\n",
    "    \n",
    "    def _sigmoid(self, net_input):\n",
    "        x = np.exp(-net_input)\n",
    "        return (2/(1+x))+1\n",
    "    \n",
    "    def _sigmoid_der(self, net_input):\n",
    "        x = self._sigmoid(net_input)\n",
    "        return ((1+x)*(1-x))/2\n",
    "    \n",
    "    def calc_output(self, input_data):\n",
    "        \n",
    "        net_output_input_layer = self.calc_net_output(input_data, self.input_layer['weights'], self.input_layer['bias'])\n",
    "        self.input_layer['net_input'] = net_output_input_layer\n",
    "        output_input_layer = self._sigmoid(net_output_input_layer)\n",
    "        \n",
    "        net_output_hl_1 = self.calc_net_output(output_input_layer, self.hidden_layer_1['weights'], self.hidden_layer_1['bias'])\n",
    "        self.hidden_layer_1['net_input'] = net_output_input_layer\n",
    "        output_hl_1 = self._sigmoid(net_output_hl_1)\n",
    "        \n",
    "        net_output_hl_2 = self.calc_net_output(output_hl_1, self.hidden_layer_2['weights'], self.hidden_layer_2['bias'])\n",
    "        self.hidden_layer_2['net_input'] = net_output_input_layer\n",
    "        output_hl_2 = self._sigmoid(net_output_hl_2)\n",
    "        \n",
    "        net_output = self.calc_net_output(output_hl_2, self.output_layer['weights'], self.output_layer['bias'])\n",
    "        self.output_layer['net_input'] = net_output_input_layer\n",
    "        output = self._sigmoid(net_output)\n",
    "        \n",
    "        return output\n",
    "    \n",
    "    def train_weights(self, delta, net_input):\n",
    "        return self.alpha*np.matmul(net_input, delta.T)\n",
    "    \n",
    "    def train_bias(self, delta):\n",
    "        return self.alpha*delta\n",
    "    \n",
    "    def train(self, _input):\n",
    "        for epoch in range(self.epochs):\n",
    "            delta_error = 0\n",
    "            for _tuple in _input.itertuples():\n",
    "                print('one over')\n",
    "                input_np = np.array([ss[1], ss[2], ss[3], ss[5]])\n",
    "                real_output = np.array(_tuple[4])\n",
    "                output = self.calc_output(np.reshape(input_np, [4,1]))\n",
    "                error = (real_output-output)\n",
    "                error = error*self._sigmoid_der(self.output_layer['net_input'])\n",
    "                delta_error = delta_error+error\n",
    "                \n",
    "                self.output_layer['weights'] = self.output_layer['weights']+self.train_weights(error, self.output_layer['net_input'])\n",
    "                self.output_layer['bias'] = self.output_layer['bias']+self.train_bias(error)\n",
    "                \n",
    "                new_delta = np.matmul(self.output_layer['weights'], error)\n",
    "                new_delta = new_delta*self._sigmoid_der(self.hidden_layer_2['net_input'])\n",
    "                new_delta = new_delta[0]\n",
    "                \n",
    "                self.hidden_layer_2['weights'] =self.hidden_layer_2['weights'] + self.train_weights(new_delta, self.hidden_layer_2['net_input'])\n",
    "                self.hidden_layer_2['bias'] =self.hidden_layer_2['bias'] + self.train_bias(new_delta)\n",
    "                \n",
    "                new_delta = np.matmul(self.hidden_layer_2['weights'], new_delta)\n",
    "                new_delta = np.reshape(new_delta, [8,1])\n",
    "                new_delta = new_delta*self._sigmoid_der(self.hidden_layer_1['net_input'])\n",
    "                \n",
    "                self.hidden_layer_1['weights'] =self.hidden_layer_1['weights'] + self.train_weights(new_delta, self.hidden_layer_1['net_input'])\n",
    "                self.hidden_layer_1['bias'] = self.hidden_layer_1['bias']+self.train_bias(new_delta[0][0])\n",
    "                \n",
    "                new_delta = np.matmul(self.hidden_layer_1['weights'], new_delta)\n",
    "                new_delta = new_delta*self._sigmoid_der(self.input_layer['net_input'])\n",
    "                \n",
    "                self.input_layer['weights'] = self.input_layer['weights']+self.train_weights(new_delta, self.input_layer['net_input'])\n",
    "                self.input_layer['bias'] = self.input_layer['bias']+self.train_bias(new_delta)\n",
    "                \n",
    "            print('Epoch', epoch, 'completed out of', self.epochs, 'error:', delta_error)"
   ]
  },
  {
   "cell_type": "code",
   "execution_count": null,
   "metadata": {
    "collapsed": true
   },
   "outputs": [],
   "source": []
  },
  {
   "cell_type": "code",
   "execution_count": 202,
   "metadata": {},
   "outputs": [
    {
     "name": "stdout",
     "output_type": "stream",
     "text": [
      "one over\n",
      "one over\n"
     ]
    },
    {
     "name": "stderr",
     "output_type": "stream",
     "text": [
      "/home/nevin/anaconda3/lib/python3.6/site-packages/ipykernel_launcher.py:49: RuntimeWarning: overflow encountered in exp\n"
     ]
    },
    {
     "ename": "ValueError",
     "evalue": "operands could not be broadcast together with shapes (8,1) (5,5) ",
     "output_type": "error",
     "traceback": [
      "\u001b[0;31m---------------------------------------------------------------------------\u001b[0m",
      "\u001b[0;31mValueError\u001b[0m                                Traceback (most recent call last)",
      "\u001b[0;32m<ipython-input-202-bb81b1bd3e61>\u001b[0m in \u001b[0;36m<module>\u001b[0;34m()\u001b[0m\n\u001b[1;32m      1\u001b[0m \u001b[0mbpn\u001b[0m \u001b[0;34m=\u001b[0m \u001b[0mbp_network\u001b[0m\u001b[0;34m(\u001b[0m\u001b[0;34m)\u001b[0m\u001b[0;34m\u001b[0m\u001b[0m\n\u001b[0;32m----> 2\u001b[0;31m \u001b[0mbpn\u001b[0m\u001b[0;34m.\u001b[0m\u001b[0mtrain\u001b[0m\u001b[0;34m(\u001b[0m\u001b[0mmovies_df\u001b[0m\u001b[0;34m)\u001b[0m\u001b[0;34m\u001b[0m\u001b[0m\n\u001b[0m",
      "\u001b[0;32m<ipython-input-201-4a8121e51f5a>\u001b[0m in \u001b[0;36mtrain\u001b[0;34m(self, _input)\u001b[0m\n\u001b[1;32m    104\u001b[0m                 \u001b[0mnew_delta\u001b[0m \u001b[0;34m=\u001b[0m \u001b[0mnp\u001b[0m\u001b[0;34m.\u001b[0m\u001b[0mmatmul\u001b[0m\u001b[0;34m(\u001b[0m\u001b[0mself\u001b[0m\u001b[0;34m.\u001b[0m\u001b[0mhidden_layer_2\u001b[0m\u001b[0;34m[\u001b[0m\u001b[0;34m'weights'\u001b[0m\u001b[0;34m]\u001b[0m\u001b[0;34m,\u001b[0m \u001b[0mnew_delta\u001b[0m\u001b[0;34m)\u001b[0m\u001b[0;34m\u001b[0m\u001b[0m\n\u001b[1;32m    105\u001b[0m                 \u001b[0mnew_delta\u001b[0m \u001b[0;34m=\u001b[0m \u001b[0mnp\u001b[0m\u001b[0;34m.\u001b[0m\u001b[0mreshape\u001b[0m\u001b[0;34m(\u001b[0m\u001b[0mnew_delta\u001b[0m\u001b[0;34m,\u001b[0m \u001b[0;34m[\u001b[0m\u001b[0;36m8\u001b[0m\u001b[0;34m,\u001b[0m\u001b[0;36m1\u001b[0m\u001b[0;34m]\u001b[0m\u001b[0;34m)\u001b[0m\u001b[0;34m\u001b[0m\u001b[0m\n\u001b[0;32m--> 106\u001b[0;31m                 \u001b[0mnew_delta\u001b[0m \u001b[0;34m=\u001b[0m \u001b[0mnew_delta\u001b[0m\u001b[0;34m*\u001b[0m\u001b[0mself\u001b[0m\u001b[0;34m.\u001b[0m\u001b[0m_sigmoid_der\u001b[0m\u001b[0;34m(\u001b[0m\u001b[0mself\u001b[0m\u001b[0;34m.\u001b[0m\u001b[0mhidden_layer_1\u001b[0m\u001b[0;34m[\u001b[0m\u001b[0;34m'net_input'\u001b[0m\u001b[0;34m]\u001b[0m\u001b[0;34m)\u001b[0m\u001b[0;34m\u001b[0m\u001b[0m\n\u001b[0m\u001b[1;32m    107\u001b[0m \u001b[0;34m\u001b[0m\u001b[0m\n\u001b[1;32m    108\u001b[0m                 \u001b[0mself\u001b[0m\u001b[0;34m.\u001b[0m\u001b[0mhidden_layer_1\u001b[0m\u001b[0;34m[\u001b[0m\u001b[0;34m'weights'\u001b[0m\u001b[0;34m]\u001b[0m \u001b[0;34m=\u001b[0m\u001b[0mself\u001b[0m\u001b[0;34m.\u001b[0m\u001b[0mhidden_layer_1\u001b[0m\u001b[0;34m[\u001b[0m\u001b[0;34m'weights'\u001b[0m\u001b[0;34m]\u001b[0m \u001b[0;34m+\u001b[0m \u001b[0mself\u001b[0m\u001b[0;34m.\u001b[0m\u001b[0mtrain_weights\u001b[0m\u001b[0;34m(\u001b[0m\u001b[0mnew_delta\u001b[0m\u001b[0;34m,\u001b[0m \u001b[0mself\u001b[0m\u001b[0;34m.\u001b[0m\u001b[0mhidden_layer_1\u001b[0m\u001b[0;34m[\u001b[0m\u001b[0;34m'net_input'\u001b[0m\u001b[0;34m]\u001b[0m\u001b[0;34m)\u001b[0m\u001b[0;34m\u001b[0m\u001b[0m\n",
      "\u001b[0;31mValueError\u001b[0m: operands could not be broadcast together with shapes (8,1) (5,5) "
     ]
    }
   ],
   "source": [
    "bpn = bp_network()\n",
    "bpn.train(movies_df)"
   ]
  },
  {
   "cell_type": "code",
   "execution_count": null,
   "metadata": {
    "collapsed": true
   },
   "outputs": [],
   "source": []
  },
  {
   "cell_type": "code",
   "execution_count": null,
   "metadata": {
    "collapsed": true
   },
   "outputs": [],
   "source": []
  }
 ],
 "metadata": {
  "kernelspec": {
   "display_name": "Python 3",
   "language": "python",
   "name": "python3"
  },
  "language_info": {
   "codemirror_mode": {
    "name": "ipython",
    "version": 3
   },
   "file_extension": ".py",
   "mimetype": "text/x-python",
   "name": "python",
   "nbconvert_exporter": "python",
   "pygments_lexer": "ipython3",
   "version": "3.6.1"
  }
 },
 "nbformat": 4,
 "nbformat_minor": 2
}
