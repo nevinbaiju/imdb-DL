{
 "cells": [
  {
   "cell_type": "code",
   "execution_count": 1,
   "metadata": {},
   "outputs": [
    {
     "name": "stderr",
     "output_type": "stream",
     "text": [
      "Using TensorFlow backend.\n"
     ]
    }
   ],
   "source": [
    "from __future__ import print_function\n",
    "\n",
    "import keras\n",
    "from keras.datasets import mnist\n",
    "from keras.models import Sequential\n",
    "from keras.layers import Dense, Dropout\n",
    "from keras.optimizers import RMSprop"
   ]
  },
  {
   "cell_type": "code",
   "execution_count": 2,
   "metadata": {
    "collapsed": true
   },
   "outputs": [],
   "source": [
    "import pandas as pd\n",
    "import numpy as np"
   ]
  },
  {
   "cell_type": "code",
   "execution_count": 3,
   "metadata": {
    "collapsed": true
   },
   "outputs": [],
   "source": [
    "movies_df = pd.read_csv('data_final.csv')"
   ]
  },
  {
   "cell_type": "code",
   "execution_count": 4,
   "metadata": {},
   "outputs": [
    {
     "data": {
      "text/html": [
       "<div>\n",
       "<style>\n",
       "    .dataframe thead tr:only-child th {\n",
       "        text-align: right;\n",
       "    }\n",
       "\n",
       "    .dataframe thead th {\n",
       "        text-align: left;\n",
       "    }\n",
       "\n",
       "    .dataframe tbody tr th {\n",
       "        vertical-align: top;\n",
       "    }\n",
       "</style>\n",
       "<table border=\"1\" class=\"dataframe\">\n",
       "  <thead>\n",
       "    <tr style=\"text-align: right;\">\n",
       "      <th></th>\n",
       "      <th>Unnamed: 0</th>\n",
       "      <th>popularity</th>\n",
       "      <th>budget</th>\n",
       "      <th>revenue</th>\n",
       "      <th>vote_average</th>\n",
       "      <th>release_month</th>\n",
       "    </tr>\n",
       "  </thead>\n",
       "  <tbody>\n",
       "    <tr>\n",
       "      <th>0</th>\n",
       "      <td>0</td>\n",
       "      <td>10.000000</td>\n",
       "      <td>3.527721</td>\n",
       "      <td>5.441401</td>\n",
       "      <td>6</td>\n",
       "      <td>6</td>\n",
       "    </tr>\n",
       "    <tr>\n",
       "      <th>1</th>\n",
       "      <td>1</td>\n",
       "      <td>8.615772</td>\n",
       "      <td>3.527721</td>\n",
       "      <td>1.360545</td>\n",
       "      <td>7</td>\n",
       "      <td>5</td>\n",
       "    </tr>\n",
       "    <tr>\n",
       "      <th>2</th>\n",
       "      <td>2</td>\n",
       "      <td>3.974998</td>\n",
       "      <td>2.586299</td>\n",
       "      <td>1.061433</td>\n",
       "      <td>6</td>\n",
       "      <td>3</td>\n",
       "    </tr>\n",
       "    <tr>\n",
       "      <th>3</th>\n",
       "      <td>3</td>\n",
       "      <td>3.387026</td>\n",
       "      <td>4.704499</td>\n",
       "      <td>7.435462</td>\n",
       "      <td>8</td>\n",
       "      <td>12</td>\n",
       "    </tr>\n",
       "    <tr>\n",
       "      <th>4</th>\n",
       "      <td>4</td>\n",
       "      <td>2.829770</td>\n",
       "      <td>4.469144</td>\n",
       "      <td>5.415230</td>\n",
       "      <td>7</td>\n",
       "      <td>4</td>\n",
       "    </tr>\n",
       "  </tbody>\n",
       "</table>\n",
       "</div>"
      ],
      "text/plain": [
       "   Unnamed: 0  popularity    budget   revenue  vote_average  release_month\n",
       "0           0   10.000000  3.527721  5.441401             6              6\n",
       "1           1    8.615772  3.527721  1.360545             7              5\n",
       "2           2    3.974998  2.586299  1.061433             6              3\n",
       "3           3    3.387026  4.704499  7.435462             8             12\n",
       "4           4    2.829770  4.469144  5.415230             7              4"
      ]
     },
     "execution_count": 4,
     "metadata": {},
     "output_type": "execute_result"
    }
   ],
   "source": [
    "movies_df.head()"
   ]
  },
  {
   "cell_type": "code",
   "execution_count": 38,
   "metadata": {
    "collapsed": true
   },
   "outputs": [],
   "source": [
    "def round_val(x):\n",
    "    return int(round(x,0))"
   ]
  },
  {
   "cell_type": "code",
   "execution_count": 42,
   "metadata": {
    "collapsed": true
   },
   "outputs": [],
   "source": [
    "movies_df['popularity'] = movies_df['popularity'].apply(round_val)\n",
    "movies_df['budget'] = movies_df['popularity'].apply(round_val)\n",
    "movies_df['revenue'] = movies_df['popularity'].apply(round_val)\n"
   ]
  },
  {
   "cell_type": "code",
   "execution_count": 95,
   "metadata": {},
   "outputs": [
    {
     "name": "stdout",
     "output_type": "stream",
     "text": [
      "33\n"
     ]
    }
   ],
   "source": [
    "x_input = np.array(movies_df[['popularity', 'budget', 'revenue']])\n",
    "y = np.reshape(x_input, newshape=[1, 15078])\n",
    "#converting input to one hot vectors\n",
    "sample = keras.utils.to_categorical(y[0], 11)\n",
    "sample = np.reshape(sample, [5026, 33])\n",
    "print(len(sample[0]))"
   ]
  },
  {
   "cell_type": "code",
   "execution_count": 96,
   "metadata": {
    "collapsed": true
   },
   "outputs": [],
   "source": [
    "x_train = movies_df[['popularity', 'budget', 'revenue', 'release_month']]\n",
    "x_train = sample\n",
    "y_train = movies_df.vote_average\n",
    "y_train = np.array(y_train)\n",
    "\n",
    "batch_size = 1000\n",
    "num_classes = 10\n",
    "epochs = 50\n",
    "\n",
    "y_train = keras.utils.to_categorical(y_train, num_classes)"
   ]
  },
  {
   "cell_type": "code",
   "execution_count": 97,
   "metadata": {
    "collapsed": true
   },
   "outputs": [],
   "source": [
    "model = Sequential()\n",
    "model.add(Dense(33, activation='relu', input_shape=(33, )))\n",
    "model.add(Dropout(0.2))\n",
    "model.add(Dense(256, activation='relu'))\n",
    "model.add(Dropout(0.2))\n",
    "model.add(Dense(512, activation='relu'))\n",
    "model.add(Dropout(0.2))\n",
    "model.add(Dense(1024, activation='relu'))\n",
    "model.add(Dropout(0.2))\n",
    "model.add(Dense(512, activation='relu'))\n",
    "model.add(Dropout(0.2))\n",
    "model.add(Dense(256, activation='relu'))\n",
    "model.add(Dropout(0.2))\n",
    "model.add(Dense(num_classes, activation='softmax'))"
   ]
  },
  {
   "cell_type": "code",
   "execution_count": 98,
   "metadata": {},
   "outputs": [
    {
     "name": "stdout",
     "output_type": "stream",
     "text": [
      "_________________________________________________________________\n",
      "Layer (type)                 Output Shape              Param #   \n",
      "=================================================================\n",
      "dense_44 (Dense)             (None, 33)                1122      \n",
      "_________________________________________________________________\n",
      "dropout_37 (Dropout)         (None, 33)                0         \n",
      "_________________________________________________________________\n",
      "dense_45 (Dense)             (None, 256)               8704      \n",
      "_________________________________________________________________\n",
      "dropout_38 (Dropout)         (None, 256)               0         \n",
      "_________________________________________________________________\n",
      "dense_46 (Dense)             (None, 512)               131584    \n",
      "_________________________________________________________________\n",
      "dropout_39 (Dropout)         (None, 512)               0         \n",
      "_________________________________________________________________\n",
      "dense_47 (Dense)             (None, 1024)              525312    \n",
      "_________________________________________________________________\n",
      "dropout_40 (Dropout)         (None, 1024)              0         \n",
      "_________________________________________________________________\n",
      "dense_48 (Dense)             (None, 512)               524800    \n",
      "_________________________________________________________________\n",
      "dropout_41 (Dropout)         (None, 512)               0         \n",
      "_________________________________________________________________\n",
      "dense_49 (Dense)             (None, 256)               131328    \n",
      "_________________________________________________________________\n",
      "dropout_42 (Dropout)         (None, 256)               0         \n",
      "_________________________________________________________________\n",
      "dense_50 (Dense)             (None, 10)                2570      \n",
      "=================================================================\n",
      "Total params: 1,325,420\n",
      "Trainable params: 1,325,420\n",
      "Non-trainable params: 0\n",
      "_________________________________________________________________\n"
     ]
    }
   ],
   "source": [
    "model.summary()"
   ]
  },
  {
   "cell_type": "code",
   "execution_count": 99,
   "metadata": {},
   "outputs": [
    {
     "name": "stdout",
     "output_type": "stream",
     "text": [
      "Epoch 1/50\n",
      "5026/5026 [==============================] - 0s - loss: 1.8069 - acc: 0.3235     \n",
      "Epoch 2/50\n",
      "5026/5026 [==============================] - 0s - loss: 1.3772 - acc: 0.4534     \n",
      "Epoch 3/50\n",
      "5026/5026 [==============================] - 0s - loss: 1.3795 - acc: 0.4208     \n",
      "Epoch 4/50\n",
      "5026/5026 [==============================] - 0s - loss: 1.3604 - acc: 0.4602     \n",
      "Epoch 5/50\n",
      "5026/5026 [==============================] - 0s - loss: 1.3327 - acc: 0.4747     \n",
      "Epoch 6/50\n",
      "5026/5026 [==============================] - 0s - loss: 1.3268 - acc: 0.4670     \n",
      "Epoch 7/50\n",
      "5026/5026 [==============================] - 0s - loss: 1.3301 - acc: 0.4662     \n",
      "Epoch 8/50\n",
      "5026/5026 [==============================] - 0s - loss: 1.3344 - acc: 0.4763     \n",
      "Epoch 9/50\n",
      "5026/5026 [==============================] - 0s - loss: 1.3191 - acc: 0.4719     \n",
      "Epoch 10/50\n",
      "5026/5026 [==============================] - 0s - loss: 1.3214 - acc: 0.4592     \n",
      "Epoch 11/50\n",
      "5026/5026 [==============================] - 0s - loss: 1.3034 - acc: 0.4781     \n",
      "Epoch 12/50\n",
      "5026/5026 [==============================] - 0s - loss: 1.3628 - acc: 0.4461     \n",
      "Epoch 13/50\n",
      "5026/5026 [==============================] - 0s - loss: 1.3065 - acc: 0.4779     \n",
      "Epoch 14/50\n",
      "5026/5026 [==============================] - 0s - loss: 1.3012 - acc: 0.4783     \n",
      "Epoch 15/50\n",
      "5026/5026 [==============================] - 0s - loss: 1.3661 - acc: 0.4775     \n",
      "Epoch 16/50\n",
      "5026/5026 [==============================] - 0s - loss: 1.2985 - acc: 0.4751     \n",
      "Epoch 17/50\n",
      "5026/5026 [==============================] - 0s - loss: 1.3017 - acc: 0.4795     \n",
      "Epoch 18/50\n",
      "5026/5026 [==============================] - 0s - loss: 1.3394 - acc: 0.4747     \n",
      "Epoch 19/50\n",
      "5026/5026 [==============================] - 0s - loss: 1.2934 - acc: 0.4781     \n",
      "Epoch 20/50\n",
      "5026/5026 [==============================] - 0s - loss: 1.2985 - acc: 0.4749     \n",
      "Epoch 21/50\n",
      "5026/5026 [==============================] - 0s - loss: 1.3009 - acc: 0.4777     \n",
      "Epoch 22/50\n",
      "5026/5026 [==============================] - 0s - loss: 1.3582 - acc: 0.4797     \n",
      "Epoch 23/50\n",
      "5026/5026 [==============================] - 0s - loss: 1.2897 - acc: 0.4775     \n",
      "Epoch 24/50\n",
      "5026/5026 [==============================] - 0s - loss: 1.2954 - acc: 0.4745     \n",
      "Epoch 25/50\n",
      "5026/5026 [==============================] - 0s - loss: 1.3111 - acc: 0.4751     \n",
      "Epoch 26/50\n",
      "5026/5026 [==============================] - 0s - loss: 1.3017 - acc: 0.4783     \n",
      "Epoch 27/50\n",
      "5026/5026 [==============================] - 0s - loss: 1.2824 - acc: 0.4795     \n",
      "Epoch 28/50\n",
      "5026/5026 [==============================] - 0s - loss: 1.3043 - acc: 0.4781     \n",
      "Epoch 29/50\n",
      "5026/5026 [==============================] - 0s - loss: 1.2929 - acc: 0.4787     \n",
      "Epoch 30/50\n",
      "5026/5026 [==============================] - 0s - loss: 1.2950 - acc: 0.4743     \n",
      "Epoch 31/50\n",
      "5026/5026 [==============================] - 0s - loss: 1.3394 - acc: 0.4753     \n",
      "Epoch 32/50\n",
      "5026/5026 [==============================] - 0s - loss: 1.2865 - acc: 0.4769     \n",
      "Epoch 33/50\n",
      "5026/5026 [==============================] - 0s - loss: 1.2993 - acc: 0.4771     \n",
      "Epoch 34/50\n",
      "5026/5026 [==============================] - 0s - loss: 1.2843 - acc: 0.4785     \n",
      "Epoch 35/50\n",
      "5026/5026 [==============================] - 0s - loss: 1.2911 - acc: 0.4751     \n",
      "Epoch 36/50\n",
      "5026/5026 [==============================] - 0s - loss: 1.2899 - acc: 0.4787     \n",
      "Epoch 37/50\n",
      "5026/5026 [==============================] - 0s - loss: 1.2928 - acc: 0.4769     \n",
      "Epoch 38/50\n",
      "5026/5026 [==============================] - 0s - loss: 1.2912 - acc: 0.4771     \n",
      "Epoch 39/50\n",
      "5026/5026 [==============================] - 0s - loss: 1.2894 - acc: 0.4761     \n",
      "Epoch 40/50\n",
      "5026/5026 [==============================] - 0s - loss: 1.2843 - acc: 0.4739     \n",
      "Epoch 41/50\n",
      "5026/5026 [==============================] - 0s - loss: 1.2993 - acc: 0.4739     \n",
      "Epoch 42/50\n",
      "5026/5026 [==============================] - 0s - loss: 1.2956 - acc: 0.4791     \n",
      "Epoch 43/50\n",
      "5026/5026 [==============================] - 0s - loss: 1.2835 - acc: 0.4757     \n",
      "Epoch 44/50\n",
      "5026/5026 [==============================] - 0s - loss: 1.2864 - acc: 0.4791     \n",
      "Epoch 45/50\n",
      "5026/5026 [==============================] - 0s - loss: 1.2845 - acc: 0.4755     \n",
      "Epoch 46/50\n",
      "5026/5026 [==============================] - 0s - loss: 1.3458 - acc: 0.4787     \n",
      "Epoch 47/50\n",
      "5026/5026 [==============================] - 0s - loss: 1.2832 - acc: 0.4761     \n",
      "Epoch 48/50\n",
      "5026/5026 [==============================] - 0s - loss: 1.2848 - acc: 0.4781     \n",
      "Epoch 49/50\n",
      "5026/5026 [==============================] - 0s - loss: 1.2837 - acc: 0.4773     \n",
      "Epoch 50/50\n",
      "5026/5026 [==============================] - 0s - loss: 1.2824 - acc: 0.4763     \n",
      "Test loss: 1.33030464409\n",
      "Test accuracy: 0.478113808197\n"
     ]
    }
   ],
   "source": [
    "model.compile(loss='categorical_crossentropy',\n",
    "              optimizer=RMSprop(),\n",
    "              metrics=['accuracy'])\n",
    "\n",
    "history = model.fit(x_train, y_train,\n",
    "                    batch_size=batch_size,\n",
    "                    epochs=epochs)\n",
    "score = model.evaluate(x_train, y_train, verbose=0)\n",
    "print('Test loss:', score[0])\n",
    "print('Test accuracy:', score[1])"
   ]
  },
  {
   "cell_type": "code",
   "execution_count": 94,
   "metadata": {},
   "outputs": [
    {
     "data": {
      "text/plain": [
       "11"
      ]
     },
     "execution_count": 94,
     "metadata": {},
     "output_type": "execute_result"
    }
   ],
   "source": [
    "len(x_train[0])"
   ]
  },
  {
   "cell_type": "code",
   "execution_count": null,
   "metadata": {
    "collapsed": true
   },
   "outputs": [],
   "source": []
  },
  {
   "cell_type": "code",
   "execution_count": null,
   "metadata": {
    "collapsed": true
   },
   "outputs": [],
   "source": []
  }
 ],
 "metadata": {
  "kernelspec": {
   "display_name": "Python 3",
   "language": "python",
   "name": "python3"
  },
  "language_info": {
   "codemirror_mode": {
    "name": "ipython",
    "version": 3
   },
   "file_extension": ".py",
   "mimetype": "text/x-python",
   "name": "python",
   "nbconvert_exporter": "python",
   "pygments_lexer": "ipython3",
   "version": "3.6.1"
  }
 },
 "nbformat": 4,
 "nbformat_minor": 2
}
